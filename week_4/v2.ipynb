{
 "cells": [
  {
   "cell_type": "code",
   "execution_count": 1,
   "metadata": {},
   "outputs": [
    {
     "name": "stderr",
     "output_type": "stream",
     "text": [
      "/home/jljubas/anaconda3/envs/NLP_KU/lib/python3.10/site-packages/transformers/tokenization_utils_base.py:1601: FutureWarning: `clean_up_tokenization_spaces` was not set. It will be set to `True` by default. This behavior will be depracted in transformers v4.45, and will be then set to `False` by default. For more details check this issue: https://github.com/huggingface/transformers/issues/31884\n",
      "  warnings.warn(\n"
     ]
    }
   ],
   "source": [
    "import pandas as pd\n",
    "import numpy as np\n",
    "import torch\n",
    "from transformers import BertTokenizerFast, BertForTokenClassification, Trainer, TrainingArguments\n",
    "from datasets import Dataset\n",
    "\n",
    "# Load the dataset\n",
    "dataset_train = pd.read_parquet(\"dataset/train.parquet\")\n",
    "dataset_validation = pd.read_parquet(\"dataset/validation.parquet\")\n",
    "\n",
    "# Initialize the tokenizer and model (using multilingual BERT)\n",
    "tokenizer = BertTokenizerFast.from_pretrained('bert-base-multilingual-cased')"
   ]
  },
  {
   "cell_type": "code",
   "execution_count": 19,
   "metadata": {},
   "outputs": [],
   "source": [
    "def create_labels(example, tokenizer):\n",
    "    \"\"\"\n",
    "    Create token labels for sequence labelling based on answer_start and answer length.\n",
    "    \"\"\"\n",
    "    question = example['question']\n",
    "    context = example['context']\n",
    "    answer_start = example['answer_start']\n",
    "    answer_text = example['answer']\n",
    "    \n",
    "    # Tokenize question and context together\n",
    "    encoding = tokenizer(question, context, truncation=True, padding='max_length', return_offsets_mapping=True)\n",
    "    \n",
    "    # Initialize labels as all 0s (no answer span)\n",
    "    labels = np.zeros(len(encoding['input_ids']))\n",
    "\n",
    "    if example['answerable']:  # Only label the span if the question is answerable\n",
    "        # Get the start and end of the answer\n",
    "        answer_end = answer_start + len(answer_text)\n",
    "        \n",
    "        # Mark answer span in the tokenized context\n",
    "        for idx, (start, end) in enumerate(encoding['offset_mapping']):\n",
    "            if start >= answer_start and end <= answer_end:\n",
    "                labels[idx] = 1  # Mark tokens as part of the answer\n",
    "                \n",
    "    return encoding['input_ids'], encoding['attention_mask'], labels"
   ]
  },
  {
   "cell_type": "code",
   "execution_count": 20,
   "metadata": {},
   "outputs": [],
   "source": [
    "# Function to create encodings and labels from the dataset\n",
    "def create_encodings_and_labels(dataset, tokenizer):\n",
    "    encodings = {'input_ids': [], 'attention_mask': []}\n",
    "    labels = []\n",
    "    \n",
    "    for _, row in dataset.iterrows():\n",
    "        input_ids, attention_mask, label = create_labels(row, tokenizer)\n",
    "        encodings['input_ids'].append(input_ids)\n",
    "        encodings['attention_mask'].append(attention_mask)\n",
    "        labels.append(label)\n",
    "        \n",
    "    # Convert lists to tensors\n",
    "    encodings['input_ids'] = torch.tensor(encodings['input_ids'])\n",
    "    encodings['attention_mask'] = torch.tensor(encodings['attention_mask'])\n",
    "    labels = torch.tensor(labels)\n",
    "    \n",
    "    return encodings, labels"
   ]
  },
  {
   "cell_type": "code",
   "execution_count": 27,
   "metadata": {},
   "outputs": [],
   "source": [
    "# Apply this function to both train and validation sets\n",
    "train_encodings, train_labels = create_encodings_and_labels(dataset_train, tokenizer)\n",
    "val_encodings, val_labels = create_encodings_and_labels(dataset_validation, tokenizer)\n",
    "\n",
    "# Convert data to HuggingFace Dataset format\n",
    "train_dataset = Dataset.from_dict({'input_ids': train_encodings['input_ids'], \n",
    "                                   'attention_mask': train_encodings['attention_mask'], \n",
    "                                   'labels': train_labels})\n",
    "\n",
    "val_dataset = Dataset.from_dict({'input_ids': val_encodings['input_ids'], \n",
    "                                 'attention_mask': val_encodings['attention_mask'], \n",
    "                                 'labels': val_labels})"
   ]
  },
  {
   "cell_type": "code",
   "execution_count": 22,
   "metadata": {},
   "outputs": [],
   "source": [
    "# Define a custom Dataset class\n",
    "class QADataset(Dataset):\n",
    "    def __init__(self, encodings, labels):\n",
    "        self.encodings = encodings\n",
    "        self.labels = labels\n",
    "\n",
    "    def __getitem__(self, idx):\n",
    "        # Return all necessary items that the model requires for training\n",
    "        item = {key: self.encodings[key][idx] for key in self.encodings}\n",
    "        item['labels'] = self.labels[idx]\n",
    "        return item\n",
    "\n",
    "    def __len__(self):\n",
    "        return len(self.labels)\n",
    "    \n",
    "# Initialize the datasets\n",
    "train_dataset = QADataset(train_encodings, train_labels)\n",
    "val_dataset = QADataset(val_encodings, val_labels)\n"
   ]
  },
  {
   "cell_type": "code",
   "execution_count": 28,
   "metadata": {},
   "outputs": [
    {
     "name": "stderr",
     "output_type": "stream",
     "text": [
      "Some weights of BertForTokenClassification were not initialized from the model checkpoint at bert-base-multilingual-cased and are newly initialized: ['classifier.bias', 'classifier.weight']\n",
      "You should probably TRAIN this model on a down-stream task to be able to use it for predictions and inference.\n"
     ]
    }
   ],
   "source": [
    "# Load pre-trained multilingual BERT model for token classification\n",
    "model = BertForTokenClassification.from_pretrained('bert-base-multilingual-cased', num_labels=2)\n"
   ]
  },
  {
   "cell_type": "code",
   "execution_count": 29,
   "metadata": {},
   "outputs": [],
   "source": [
    "# Define training arguments\n",
    "training_args = TrainingArguments(\n",
    "    output_dir='./results',          # Output directory\n",
    "    evaluation_strategy=\"epoch\",     # Evaluation strategy\n",
    "    learning_rate=2e-5,              # Learning rate\n",
    "    per_device_train_batch_size=8,   # Batch size\n",
    "    per_device_eval_batch_size=8,    \n",
    "    num_train_epochs=3,              # Number of training epochs\n",
    "    weight_decay=0.01,               # Weight decay\n",
    ")\n",
    "\n",
    "\n",
    "# Initialize Trainer\n",
    "trainer = Trainer(\n",
    "    model=model,\n",
    "    args=training_args,\n",
    "    train_dataset=train_dataset,\n",
    "    eval_dataset=val_dataset\n",
    ")\n",
    "\n"
   ]
  },
  {
   "cell_type": "code",
   "execution_count": 30,
   "metadata": {},
   "outputs": [
    {
     "ename": "",
     "evalue": "",
     "output_type": "error",
     "traceback": [
      "\u001b[1;31mThe Kernel crashed while executing code in the current cell or a previous cell. \n",
      "\u001b[1;31mPlease review the code in the cell(s) to identify a possible cause of the failure. \n",
      "\u001b[1;31mClick <a href='https://aka.ms/vscodeJupyterKernelCrash'>here</a> for more info. \n",
      "\u001b[1;31mView Jupyter <a href='command:jupyter.viewOutput'>log</a> for further details."
     ]
    }
   ],
   "source": [
    "# Train the model\n",
    "trainer.train()\n",
    "\n",
    "\n",
    "\n",
    "# Evaluate the model\n",
    "trainer.evaluate()"
   ]
  },
  {
   "cell_type": "code",
   "execution_count": null,
   "metadata": {},
   "outputs": [],
   "source": [
    "def postprocess_predictions(predictions, offsets, context):\n",
    "    \"\"\"\n",
    "    Postprocess token-level predictions to extract the answer span.\n",
    "    \"\"\"\n",
    "    answer_tokens = [idx for idx, label in enumerate(predictions) if label == 1]\n",
    "    \n",
    "    # If no answer tokens are found, the answer is unanswerable\n",
    "    if not answer_tokens:\n",
    "        return \"\"\n",
    "    \n",
    "    # Extract the start and end tokens\n",
    "    start_char = offsets[answer_tokens[0]][0]\n",
    "    end_char = offsets[answer_tokens[-1]][1]\n",
    "    \n",
    "    return context[start_char:end_char]\n",
    "\n",
    "# Example on how to use it\n",
    "# Assuming `preds` are the token predictions and `offsets` are the offset mappings from tokenization\n",
    "# pred_answer = postprocess_predictions(preds, offsets, context)\n"
   ]
  }
 ],
 "metadata": {
  "kernelspec": {
   "display_name": "NLP_KU",
   "language": "python",
   "name": "python3"
  },
  "language_info": {
   "codemirror_mode": {
    "name": "ipython",
    "version": 3
   },
   "file_extension": ".py",
   "mimetype": "text/x-python",
   "name": "python",
   "nbconvert_exporter": "python",
   "pygments_lexer": "ipython3",
   "version": "3.10.14"
  }
 },
 "nbformat": 4,
 "nbformat_minor": 2
}
